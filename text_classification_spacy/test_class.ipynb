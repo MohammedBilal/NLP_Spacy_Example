{
 "cells": [
  {
   "cell_type": "code",
   "execution_count": 1,
   "id": "5bc0931d",
   "metadata": {},
   "outputs": [],
   "source": [
    "import spacy\n",
    "from ml_datasets import imdb"
   ]
  },
  {
   "cell_type": "code",
   "execution_count": 2,
   "id": "86b61ad8",
   "metadata": {},
   "outputs": [],
   "source": [
    "train_data, valid_data = imdb()"
   ]
  },
  {
   "cell_type": "code",
   "execution_count": 23,
   "id": "5764132e",
   "metadata": {},
   "outputs": [],
   "source": [
    "#text = train_data[500]"
   ]
  },
  {
   "cell_type": "code",
   "execution_count": 43,
   "id": "8ea601f4",
   "metadata": {},
   "outputs": [],
   "source": [
    "text = \"love it!\""
   ]
  },
  {
   "cell_type": "code",
   "execution_count": 44,
   "id": "f4b67c02",
   "metadata": {},
   "outputs": [],
   "source": [
    "nlp = spacy.load(\"output/model-last\")"
   ]
  },
  {
   "cell_type": "code",
   "execution_count": 45,
   "id": "304746df",
   "metadata": {},
   "outputs": [],
   "source": [
    "doc = nlp(text[0])"
   ]
  },
  {
   "cell_type": "code",
   "execution_count": 46,
   "id": "564eb899",
   "metadata": {},
   "outputs": [
    {
     "name": "stdout",
     "output_type": "stream",
     "text": [
      "{'positive': 0.49925947189331055, 'negative': 0.5007405281066895}\n"
     ]
    }
   ],
   "source": [
    "print(doc.cats)"
   ]
  },
  {
   "cell_type": "code",
   "execution_count": 47,
   "id": "a1d4bb95",
   "metadata": {},
   "outputs": [
    {
     "name": "stdout",
     "output_type": "stream",
     "text": [
      "love it!\n"
     ]
    }
   ],
   "source": [
    "print(text)"
   ]
  },
  {
   "cell_type": "code",
   "execution_count": null,
   "id": "f83ba861",
   "metadata": {},
   "outputs": [],
   "source": []
  }
 ],
 "metadata": {
  "kernelspec": {
   "display_name": "Python 3 (ipykernel)",
   "language": "python",
   "name": "python3"
  },
  "language_info": {
   "codemirror_mode": {
    "name": "ipython",
    "version": 3
   },
   "file_extension": ".py",
   "mimetype": "text/x-python",
   "name": "python",
   "nbconvert_exporter": "python",
   "pygments_lexer": "ipython3",
   "version": "3.9.6"
  }
 },
 "nbformat": 4,
 "nbformat_minor": 5
}
