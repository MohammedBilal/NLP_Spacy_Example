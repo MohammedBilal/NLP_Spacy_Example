{
 "cells": [
  {
   "cell_type": "code",
   "execution_count": null,
   "id": "1a4956db",
   "metadata": {},
   "outputs": [],
   "source": [
    "#Installing Libraries for Practice\n",
    "\n",
    "pip install -U pip setuptools wheel\n",
    "pip install -U spacy\n",
    "pip install -U pandas\n",
    "pip install -U ml-datasets\n",
    "\n",
    "pip install https://github.com/explosion/spacy-models/releases/download/en_core_web_sm-3.1.0/en_core_web_sm-3.1.0.tar.gz"
   ]
  },
  {
   "cell_type": "code",
   "execution_count": 2,
   "id": "0bbe99c9",
   "metadata": {},
   "outputs": [
    {
     "name": "stdout",
     "output_type": "stream",
     "text": [
      "\u001b[33mDEPRECATION: Configuring installation scheme with distutils config files is deprecated and will no longer work in the near future. If you are using a Homebrew or Linuxbrew Python, please see discussion at https://github.com/Homebrew/homebrew-core/issues/76621\u001b[0m\n",
      "Collecting ml-datasets\n",
      "  Using cached ml_datasets-0.2.0-py3-none-any.whl (15 kB)\n",
      "Requirement already satisfied: catalogue<3.0.0,>=0.2.0 in /usr/local/lib/python3.9/site-packages (from ml-datasets) (2.0.6)\n",
      "Requirement already satisfied: numpy>=1.7.0 in /usr/local/lib/python3.9/site-packages (from ml-datasets) (1.21.3)\n",
      "Requirement already satisfied: tqdm<5.0.0,>=4.10.0 in /usr/local/lib/python3.9/site-packages (from ml-datasets) (4.62.3)\n",
      "Requirement already satisfied: srsly<3.0.0,>=1.0.1 in /usr/local/lib/python3.9/site-packages (from ml-datasets) (2.4.2)\n",
      "Installing collected packages: ml-datasets\n",
      "\u001b[33mDEPRECATION: Configuring installation scheme with distutils config files is deprecated and will no longer work in the near future. If you are using a Homebrew or Linuxbrew Python, please see discussion at https://github.com/Homebrew/homebrew-core/issues/76621\u001b[0m\n",
      "Successfully installed ml-datasets-0.2.0\n",
      "Note: you may need to restart the kernel to use updated packages.\n"
     ]
    }
   ],
   "source": [
    "pip install -U ml-datasets"
   ]
  },
  {
   "cell_type": "code",
   "execution_count": 3,
   "id": "c615e30d",
   "metadata": {},
   "outputs": [],
   "source": [
    "#Verifying the installed libraries"
   ]
  },
  {
   "cell_type": "code",
   "execution_count": 4,
   "id": "0c011322",
   "metadata": {},
   "outputs": [
    {
     "name": "stdout",
     "output_type": "stream",
     "text": [
      "Package             Version\n",
      "------------------- ---------\n",
      "appnope             0.1.2\n",
      "argon2-cffi         21.1.0\n",
      "attrs               21.2.0\n",
      "backcall            0.2.0\n",
      "bleach              4.1.0\n",
      "blis                0.7.5\n",
      "catalogue           2.0.6\n",
      "certifi             2021.10.8\n",
      "cffi                1.15.0\n",
      "charset-normalizer  2.0.7\n",
      "click               8.0.3\n",
      "cymem               2.0.6\n",
      "debugpy             1.5.1\n",
      "decorator           5.1.0\n",
      "defusedxml          0.7.1\n",
      "entrypoints         0.3\n",
      "idna                3.3\n",
      "ipykernel           6.4.2\n",
      "ipython             7.28.0\n",
      "ipython-genutils    0.2.0\n",
      "ipywidgets          7.6.5\n",
      "jedi                0.18.0\n",
      "Jinja2              3.0.2\n",
      "jsonschema          4.1.2\n",
      "jupyter             1.0.0\n",
      "jupyter-client      7.0.6\n",
      "jupyter-console     6.4.0\n",
      "jupyter-core        4.9.1\n",
      "jupyterlab-pygments 0.1.2\n",
      "jupyterlab-widgets  1.0.2\n",
      "MarkupSafe          2.0.1\n",
      "matplotlib-inline   0.1.3\n",
      "mistune             0.8.4\n",
      "ml-datasets         0.2.0\n",
      "murmurhash          1.0.6\n",
      "nbclient            0.5.4\n",
      "nbconvert           6.2.0\n",
      "nbformat            5.1.3\n",
      "nest-asyncio        1.5.1\n",
      "notebook            6.4.5\n",
      "numpy               1.21.3\n",
      "packaging           21.0\n",
      "pandas              1.3.4\n",
      "pandocfilters       1.5.0\n",
      "parso               0.8.2\n",
      "pathy               0.6.1\n",
      "pexpect             4.8.0\n",
      "pickleshare         0.7.5\n",
      "pip                 21.3.1\n",
      "preshed             3.0.6\n",
      "prometheus-client   0.11.0\n",
      "prompt-toolkit      3.0.21\n",
      "protobuf            3.17.3\n",
      "ptyprocess          0.7.0\n",
      "pycparser           2.20\n",
      "pydantic            1.8.2\n",
      "Pygments            2.10.0\n",
      "pyparsing           3.0.3\n",
      "pyrsistent          0.18.0\n",
      "python-dateutil     2.8.2\n",
      "pytz                2021.3\n",
      "pyzmq               22.3.0\n",
      "qtconsole           5.1.1\n",
      "QtPy                1.11.2\n",
      "requests            2.26.0\n",
      "Send2Trash          1.8.0\n",
      "setuptools          57.0.0\n",
      "six                 1.16.0\n",
      "smart-open          5.2.1\n",
      "spacy               3.1.3\n",
      "spacy-legacy        3.0.8\n",
      "srsly               2.4.2\n",
      "terminado           0.12.1\n",
      "testpath            0.5.0\n",
      "thinc               8.0.12\n",
      "tornado             6.1\n",
      "tqdm                4.62.3\n",
      "traitlets           5.1.1\n",
      "typer               0.4.0\n",
      "typing-extensions   3.10.0.2\n",
      "urllib3             1.26.7\n",
      "wasabi              0.8.2\n",
      "wcwidth             0.2.5\n",
      "webencodings        0.5.1\n",
      "wheel               0.36.2\n",
      "widgetsnbextension  3.5.2\n",
      "Note: you may need to restart the kernel to use updated packages.\n"
     ]
    }
   ],
   "source": [
    "pip list"
   ]
  },
  {
   "cell_type": "code",
   "execution_count": 5,
   "id": "10efd340",
   "metadata": {},
   "outputs": [],
   "source": [
    "#Importing the libraries\n",
    "\n",
    "import spacy\n",
    "from spacy.tokens import DocBin\n",
    "from ml_datasets import imdb"
   ]
  },
  {
   "cell_type": "code",
   "execution_count": 6,
   "id": "0c40651b",
   "metadata": {},
   "outputs": [],
   "source": [
    "# load movie reviews as a tuple (text, label)\n",
    "train_data, valid_data = imdb()"
   ]
  },
  {
   "cell_type": "code",
   "execution_count": 7,
   "id": "0c1a5b66",
   "metadata": {},
   "outputs": [
    {
     "name": "stdout",
     "output_type": "stream",
     "text": [
      "(\"This movie stars Jay Leno as a Detroit cop, Tony Costas and Pat Morita as a Tokyo cop sent to Detroit to retrieve a stolen prototype of a car motor. A Japanese man traveled to Detroit hoping to sell it to a up and coming car company ran by a man named Derrick Jarryd. Unfortunately for him the men who were supposed to negotiate the deal killed him and took the prototype. An angry Derek Jarryd tries to distance himself from Phillip Madras who led the men. But Madras(played by Chris Sarandon) has none of it and threatens Jarryd forcing him to continue their partnership. Meanwhile in the same junk yard where the Japanese man had been killed, a friend of Tony Costas was also killed by the same men. Tony's friend had been watching the junk yard.\\n\\n\\n\\nTony sets out to find the killer against his superior's order. Tony is on robbery while obviously homicide should investigate the case. While Tony is investigating the crime he runs into the Japanese cop and mistakingly he arrests him. Eventually they end up working together on the case. They make an odd pair and there are some genuinely amusing parts as well as some ridiculous scenes such as Pat Morita jumping and kicking right through a the windshield of a moving car and kicking Madras in the head. But it ends up being an enjoyable buddy cop movie, at least in my opinion. Jay Leno is no actor, but he is likable in the role and Pat Morita is good as well. Still, they make for one of the more unlikely buddy cop duos in an action film. If you liked buddy cop films, cheesy 80's movies or you want to see Jay Leno as an actor then I recommend this movie.\", 'pos')\n"
     ]
    }
   ],
   "source": [
    "print(train_data[1])"
   ]
  },
  {
   "cell_type": "code",
   "execution_count": 8,
   "id": "39defa7f",
   "metadata": {},
   "outputs": [
    {
     "data": {
      "text/plain": [
       "list"
      ]
     },
     "execution_count": 8,
     "metadata": {},
     "output_type": "execute_result"
    }
   ],
   "source": [
    "type(train_data)"
   ]
  },
  {
   "cell_type": "code",
   "execution_count": null,
   "id": "6fb55a70",
   "metadata": {},
   "outputs": [],
   "source": [
    "def make_docs(data):\n",
    "    docs = []\n",
    "    for doc, label in nlp.pipe(data, as_tuples=True):\n",
    "        if label == \"neg\":\n",
    "            doc.cats[\"positive\"] = 0\n",
    "            doc.cats[\"negative\"] = 1\n",
    "        else:\n",
    "            doc.cats[\"positive\"] = 1\n",
    "            doc.cats[\"negative\"] = 0\n",
    "        docs.append(doc)\n",
    "    return (docs)"
   ]
  },
  {
   "cell_type": "code",
   "execution_count": null,
   "id": "5088b0a7",
   "metadata": {},
   "outputs": [],
   "source": [
    "nlp=spacy.load(\"en_core_web_sm\")"
   ]
  },
  {
   "cell_type": "code",
   "execution_count": null,
   "id": "62de03b6",
   "metadata": {},
   "outputs": [],
   "source": [
    "num_texts = 500\n",
    "\n",
    "train_docs = make_docs(train_data[:num_texts])\n",
    "doc_bin = DocBin(docs=train_docs)\n",
    "doc_bin.to_disk(\"./data/train.spacy\")\n",
    "\n",
    "valid_docs = make_docs(valid_data[:num_texts])\n",
    "doc_bin = DocBin(docs=valid_docs)\n",
    "doc_bin.to_disk(\"./data/valid.spacy\")\n"
   ]
  },
  {
   "cell_type": "code",
   "execution_count": null,
   "id": "0a6e22b5",
   "metadata": {},
   "outputs": [],
   "source": [
    "!python3 -m spacy init fill-config ./base_config.cfg ./config.cfg"
   ]
  },
  {
   "cell_type": "code",
   "execution_count": null,
   "id": "f5699245",
   "metadata": {},
   "outputs": [],
   "source": [
    "!python3 -m spacy train config.cfg --output ./output"
   ]
  },
  {
   "cell_type": "code",
   "execution_count": null,
   "id": "a74cfc7e",
   "metadata": {},
   "outputs": [],
   "source": [
    "# Import pandas & read csv file\n",
    "import pandas as pd\n",
    "reviews=pd.read_csv(\"https://raw.githubusercontent.com/hanzhang0420/Women-Clothing-E-commerce/master/Womens%20Clothing%20E-Commerce%20Reviews.csv\")"
   ]
  },
  {
   "cell_type": "code",
   "execution_count": null,
   "id": "9be7fa0b",
   "metadata": {},
   "outputs": [],
   "source": [
    "# Extract desired columns and view the dataframe\n",
    "reviews = reviews[['Review Text','Recommended IND']].dropna()\n",
    "reviews.head(10)"
   ]
  },
  {
   "cell_type": "code",
   "execution_count": null,
   "id": "c5300398",
   "metadata": {},
   "outputs": [],
   "source": [
    "nlp=spacy.load(\"en_core_web_sm\")\n",
    "nlp.pipe_names"
   ]
  },
  {
   "cell_type": "code",
   "execution_count": null,
   "id": "c39ee571",
   "metadata": {},
   "outputs": [],
   "source": [
    "textcat=nlp.create_pipe(\"textcat\")\n",
    "nlp.add_pipe(textcat, last=True)\n",
    "nlp.pipe_names"
   ]
  }
 ],
 "metadata": {
  "kernelspec": {
   "display_name": "Python 3 (ipykernel)",
   "language": "python",
   "name": "python3"
  },
  "language_info": {
   "codemirror_mode": {
    "name": "ipython",
    "version": 3
   },
   "file_extension": ".py",
   "mimetype": "text/x-python",
   "name": "python",
   "nbconvert_exporter": "python",
   "pygments_lexer": "ipython3",
   "version": "3.9.6"
  }
 },
 "nbformat": 4,
 "nbformat_minor": 5
}
