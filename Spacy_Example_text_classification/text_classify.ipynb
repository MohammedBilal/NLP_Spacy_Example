{
 "cells": [
  {
   "cell_type": "code",
   "execution_count": 1,
   "id": "066b84a2",
   "metadata": {},
   "outputs": [
    {
     "name": "stdout",
     "output_type": "stream",
     "text": [
      "Package             Version\n",
      "------------------- ---------\n",
      "appnope             0.1.2\n",
      "argon2-cffi         21.1.0\n",
      "attrs               21.2.0\n",
      "backcall            0.2.0\n",
      "bleach              4.1.0\n",
      "blis                0.7.5\n",
      "catalogue           2.0.6\n",
      "certifi             2021.10.8\n",
      "cffi                1.15.0\n",
      "charset-normalizer  2.0.7\n",
      "click               8.0.3\n",
      "cymem               2.0.6\n",
      "debugpy             1.5.1\n",
      "decorator           5.1.0\n",
      "defusedxml          0.7.1\n",
      "en-core-web-sm      3.1.0\n",
      "entrypoints         0.3\n",
      "idna                3.3\n",
      "ipykernel           6.4.2\n",
      "ipython             7.28.0\n",
      "ipython-genutils    0.2.0\n",
      "ipywidgets          7.6.5\n",
      "jedi                0.18.0\n",
      "Jinja2              3.0.2\n",
      "jsonschema          4.1.2\n",
      "jupyter             1.0.0\n",
      "jupyter-client      7.0.6\n",
      "jupyter-console     6.4.0\n",
      "jupyter-core        4.9.1\n",
      "jupyterlab-pygments 0.1.2\n",
      "jupyterlab-widgets  1.0.2\n",
      "MarkupSafe          2.0.1\n",
      "matplotlib-inline   0.1.3\n",
      "mistune             0.8.4\n",
      "ml-datasets         0.2.0\n",
      "murmurhash          1.0.6\n",
      "nbclient            0.5.4\n",
      "nbconvert           6.2.0\n",
      "nbformat            5.1.3\n",
      "nest-asyncio        1.5.1\n",
      "notebook            6.4.5\n",
      "numpy               1.21.3\n",
      "packaging           21.0\n",
      "pandas              1.3.4\n",
      "pandocfilters       1.5.0\n",
      "parso               0.8.2\n",
      "pathy               0.6.1\n",
      "pexpect             4.8.0\n",
      "pickleshare         0.7.5\n",
      "pip                 21.3.1\n",
      "preshed             3.0.6\n",
      "prometheus-client   0.11.0\n",
      "prompt-toolkit      3.0.21\n",
      "protobuf            3.17.3\n",
      "ptyprocess          0.7.0\n",
      "pycparser           2.20\n",
      "pydantic            1.8.2\n",
      "Pygments            2.10.0\n",
      "pyparsing           3.0.3\n",
      "pyrsistent          0.18.0\n",
      "python-dateutil     2.8.2\n",
      "pytz                2021.3\n",
      "pyzmq               22.3.0\n",
      "qtconsole           5.1.1\n",
      "QtPy                1.11.2\n",
      "requests            2.26.0\n",
      "Send2Trash          1.8.0\n",
      "setuptools          57.0.0\n",
      "six                 1.16.0\n",
      "smart-open          5.2.1\n",
      "spacy               3.1.3\n",
      "spacy-legacy        3.0.8\n",
      "srsly               2.4.2\n",
      "terminado           0.12.1\n",
      "testpath            0.5.0\n",
      "thinc               8.0.12\n",
      "tornado             6.1\n",
      "tqdm                4.62.3\n",
      "traitlets           5.1.1\n",
      "typer               0.4.0\n",
      "typing-extensions   3.10.0.2\n",
      "urllib3             1.26.7\n",
      "wasabi              0.8.2\n",
      "wcwidth             0.2.5\n",
      "webencodings        0.5.1\n",
      "wheel               0.36.2\n",
      "widgetsnbextension  3.5.2\n",
      "Note: you may need to restart the kernel to use updated packages.\n"
     ]
    }
   ],
   "source": [
    "pip list"
   ]
  },
  {
   "cell_type": "code",
   "execution_count": 2,
   "id": "c3c1eafc",
   "metadata": {},
   "outputs": [],
   "source": [
    "#Importing the libraries\n",
    "\n",
    "import spacy\n",
    "from spacy.tokens import DocBin"
   ]
  },
  {
   "cell_type": "code",
   "execution_count": 3,
   "id": "fc8dded8",
   "metadata": {},
   "outputs": [
    {
     "data": {
      "text/html": [
       "<div>\n",
       "<style scoped>\n",
       "    .dataframe tbody tr th:only-of-type {\n",
       "        vertical-align: middle;\n",
       "    }\n",
       "\n",
       "    .dataframe tbody tr th {\n",
       "        vertical-align: top;\n",
       "    }\n",
       "\n",
       "    .dataframe thead th {\n",
       "        text-align: right;\n",
       "    }\n",
       "</style>\n",
       "<table border=\"1\" class=\"dataframe\">\n",
       "  <thead>\n",
       "    <tr style=\"text-align: right;\">\n",
       "      <th></th>\n",
       "      <th>Review Text</th>\n",
       "      <th>Recommended IND</th>\n",
       "    </tr>\n",
       "  </thead>\n",
       "  <tbody>\n",
       "    <tr>\n",
       "      <th>0</th>\n",
       "      <td>Absolutely wonderful - silky and sexy and comf...</td>\n",
       "      <td>1</td>\n",
       "    </tr>\n",
       "    <tr>\n",
       "      <th>1</th>\n",
       "      <td>Love this dress!  it's sooo pretty.  i happene...</td>\n",
       "      <td>1</td>\n",
       "    </tr>\n",
       "    <tr>\n",
       "      <th>2</th>\n",
       "      <td>I had such high hopes for this dress and reall...</td>\n",
       "      <td>0</td>\n",
       "    </tr>\n",
       "    <tr>\n",
       "      <th>3</th>\n",
       "      <td>I love, love, love this jumpsuit. it's fun, fl...</td>\n",
       "      <td>1</td>\n",
       "    </tr>\n",
       "    <tr>\n",
       "      <th>4</th>\n",
       "      <td>This shirt is very flattering to all due to th...</td>\n",
       "      <td>1</td>\n",
       "    </tr>\n",
       "    <tr>\n",
       "      <th>5</th>\n",
       "      <td>I love tracy reese dresses, but this one is no...</td>\n",
       "      <td>0</td>\n",
       "    </tr>\n",
       "    <tr>\n",
       "      <th>6</th>\n",
       "      <td>I aded this in my basket at hte last mintue to...</td>\n",
       "      <td>1</td>\n",
       "    </tr>\n",
       "    <tr>\n",
       "      <th>7</th>\n",
       "      <td>I ordered this in carbon for store pick up, an...</td>\n",
       "      <td>1</td>\n",
       "    </tr>\n",
       "    <tr>\n",
       "      <th>8</th>\n",
       "      <td>I love this dress. i usually get an xs but it ...</td>\n",
       "      <td>1</td>\n",
       "    </tr>\n",
       "    <tr>\n",
       "      <th>9</th>\n",
       "      <td>I'm 5\"5' and 125 lbs. i ordered the s petite t...</td>\n",
       "      <td>1</td>\n",
       "    </tr>\n",
       "  </tbody>\n",
       "</table>\n",
       "</div>"
      ],
      "text/plain": [
       "                                         Review Text  Recommended IND\n",
       "0  Absolutely wonderful - silky and sexy and comf...                1\n",
       "1  Love this dress!  it's sooo pretty.  i happene...                1\n",
       "2  I had such high hopes for this dress and reall...                0\n",
       "3  I love, love, love this jumpsuit. it's fun, fl...                1\n",
       "4  This shirt is very flattering to all due to th...                1\n",
       "5  I love tracy reese dresses, but this one is no...                0\n",
       "6  I aded this in my basket at hte last mintue to...                1\n",
       "7  I ordered this in carbon for store pick up, an...                1\n",
       "8  I love this dress. i usually get an xs but it ...                1\n",
       "9  I'm 5\"5' and 125 lbs. i ordered the s petite t...                1"
      ]
     },
     "execution_count": 3,
     "metadata": {},
     "output_type": "execute_result"
    }
   ],
   "source": [
    "# Import pandas & read csv file\n",
    "import pandas as pd\n",
    "reviews=pd.read_csv(\"https://raw.githubusercontent.com/hanzhang0420/Women-Clothing-E-commerce/master/Womens%20Clothing%20E-Commerce%20Reviews.csv\")\n",
    "\n",
    "# Extract desired columns and view the dataframe\n",
    "reviews = reviews[['Review Text','Recommended IND']].dropna()\n",
    "reviews.head(10)"
   ]
  },
  {
   "cell_type": "code",
   "execution_count": 4,
   "id": "aa5a4853",
   "metadata": {},
   "outputs": [
    {
     "data": {
      "text/plain": [
       "[('Absolutely wonderful - silky and sexy and comfortable', 1),\n",
       " ('Love this dress!  it\\'s sooo pretty.  i happened to find it in a store, and i\\'m glad i did bc i never would have ordered it online bc it\\'s petite.  i bought a petite and am 5\\'8\".  i love the length on me- hits just a little below the knee.  would definitely be a true midi on someone who is truly petite.',\n",
       "  1),\n",
       " ('I had such high hopes for this dress and really wanted it to work for me. i initially ordered the petite small (my usual size) but i found this to be outrageously small. so small in fact that i could not zip it up! i reordered it in petite medium, which was just ok. overall, the top half was comfortable and fit nicely, but the bottom half had a very tight under layer and several somewhat cheap (net) over layers. imo, a major design flaw was the net over layer sewn directly into the zipper - it c',\n",
       "  0),\n",
       " (\"I love, love, love this jumpsuit. it's fun, flirty, and fabulous! every time i wear it, i get nothing but great compliments!\",\n",
       "  1),\n",
       " ('This shirt is very flattering to all due to the adjustable front tie. it is the perfect length to wear with leggings and it is sleeveless so it pairs well with any cardigan. love this shirt!!!',\n",
       "  1),\n",
       " ('I love tracy reese dresses, but this one is not for the very petite. i am just under 5 feet tall and usually wear a 0p in this brand. this dress was very pretty out of the package but its a lot of dress. the skirt is long and very full so it overwhelmed my small frame. not a stranger to alterations, shortening and narrowing the skirt would take away from the embellishment of the garment. i love the color and the idea of the style but it just did not work on me. i returned this dress.',\n",
       "  0),\n",
       " ('I aded this in my basket at hte last mintue to see what it would look like in person. (store pick up). i went with teh darkler color only because i am so pale :-) hte color is really gorgeous, and turns out it mathced everythiing i was trying on with it prefectly. it is a little baggy on me and hte xs is hte msallet size (bummer, no petite). i decided to jkeep it though, because as i said, it matvehd everything. my ejans, pants, and the 3 skirts i waas trying on (of which i ]kept all ) oops.',\n",
       "  1),\n",
       " (\"I ordered this in carbon for store pick up, and had a ton of stuff (as always) to try on and used this top to pair (skirts and pants). everything went with it. the color is really nice charcoal with shimmer, and went well with pencil skirts, flare pants, etc. my only compaint is it is a bit big, sleeves are long and it doesn't go in petite. also a bit loose for me, but no xxs... so i kept it and wil ldecide later since the light color is already sold out in hte smallest size...\",\n",
       "  1),\n",
       " ('I love this dress. i usually get an xs but it runs a little snug in bust so i ordered up a size. very flattering and feminine with the usual retailer flair for style.',\n",
       "  1),\n",
       " ('I\\'m 5\"5\\' and 125 lbs. i ordered the s petite to make sure the length wasn\\'t too long. i typically wear an xs regular in retailer dresses. if you\\'re less busty (34b cup or smaller), a s petite will fit you perfectly (snug, but not tight). i love that i could dress it up for a party, or down for work. i love that the tulle is longer then the fabric underneath.',\n",
       "  1)]"
      ]
     },
     "execution_count": 4,
     "metadata": {},
     "output_type": "execute_result"
    }
   ],
   "source": [
    "# Converting the dataframe into a list of tuples\n",
    "reviews['tuples'] = reviews.apply(lambda row: (row['Review Text'],row['Recommended IND']), axis=1)\n",
    "train =reviews['tuples'].tolist()\n",
    "train[:10]"
   ]
  },
  {
   "cell_type": "code",
   "execution_count": 5,
   "id": "dac0152d",
   "metadata": {},
   "outputs": [
    {
     "data": {
      "text/plain": [
       "list"
      ]
     },
     "execution_count": 5,
     "metadata": {},
     "output_type": "execute_result"
    }
   ],
   "source": [
    "type(train)"
   ]
  },
  {
   "cell_type": "code",
   "execution_count": 16,
   "id": "2b072334",
   "metadata": {},
   "outputs": [
    {
     "data": {
      "text/plain": [
       "22641"
      ]
     },
     "execution_count": 16,
     "metadata": {},
     "output_type": "execute_result"
    }
   ],
   "source": [
    "len(train)"
   ]
  },
  {
   "cell_type": "code",
   "execution_count": 6,
   "id": "9ae7726c",
   "metadata": {},
   "outputs": [],
   "source": [
    "def make_docs(data):\n",
    "    docs = []\n",
    "    for doc, label in nlp.pipe(data, as_tuples=True):\n",
    "        if label == 0:\n",
    "            doc.cats[\"positive\"] = 0\n",
    "            doc.cats[\"negative\"] = 1\n",
    "        else:\n",
    "            doc.cats[\"positive\"] = 1\n",
    "            doc.cats[\"negative\"] = 0\n",
    "        docs.append(doc)\n",
    "    return (docs)"
   ]
  },
  {
   "cell_type": "code",
   "execution_count": null,
   "id": "4f50c40d",
   "metadata": {},
   "outputs": [],
   "source": [
    "pip install -U https://github.com/explosion/spacy-models/releases/download/en_core_web_sm-3.1.0/en_core_web_sm-3.1.0.tar.gz"
   ]
  },
  {
   "cell_type": "code",
   "execution_count": 7,
   "id": "c219bcab",
   "metadata": {},
   "outputs": [],
   "source": [
    "nlp=spacy.load(\"en_core_web_sm\")"
   ]
  },
  {
   "cell_type": "code",
   "execution_count": 9,
   "id": "567c864e",
   "metadata": {},
   "outputs": [],
   "source": [
    "split = 0.8\n",
    "split = int(len(train) * split)\n",
    "train_data = train[:split]\n",
    "valid_data = train[split:]"
   ]
  },
  {
   "cell_type": "code",
   "execution_count": 14,
   "id": "c56ecd52",
   "metadata": {},
   "outputs": [
    {
     "data": {
      "text/plain": [
       "18112"
      ]
     },
     "execution_count": 14,
     "metadata": {},
     "output_type": "execute_result"
    }
   ],
   "source": [
    "len(train_data)"
   ]
  },
  {
   "cell_type": "code",
   "execution_count": 15,
   "id": "c7150384",
   "metadata": {},
   "outputs": [
    {
     "data": {
      "text/plain": [
       "4529"
      ]
     },
     "execution_count": 15,
     "metadata": {},
     "output_type": "execute_result"
    }
   ],
   "source": [
    "len(valid_data)"
   ]
  },
  {
   "cell_type": "code",
   "execution_count": 17,
   "id": "048c8f06",
   "metadata": {},
   "outputs": [],
   "source": [
    "num_texts = 500\n",
    "\n",
    "train_docs = make_docs(train_data[:num_texts])\n",
    "doc_bin = DocBin(docs=train_docs)\n",
    "doc_bin.to_disk(\"./data/train.spacy\")\n",
    "\n",
    "valid_docs = make_docs(valid_data[:num_texts])\n",
    "doc_bin = DocBin(docs=valid_docs)\n",
    "doc_bin.to_disk(\"./data/valid.spacy\")\n",
    "\n"
   ]
  },
  {
   "cell_type": "code",
   "execution_count": 18,
   "id": "69ec8d78",
   "metadata": {},
   "outputs": [
    {
     "name": "stdout",
     "output_type": "stream",
     "text": [
      "\u001b[38;5;2m✔ Auto-filled config with all values\u001b[0m\r\n",
      "\u001b[38;5;2m✔ Saved config\u001b[0m\r\n",
      "config.cfg\r\n",
      "You can now add your data and train your pipeline:\r\n",
      "python -m spacy train config.cfg --paths.train ./train.spacy --paths.dev ./dev.spacy\r\n"
     ]
    }
   ],
   "source": [
    "!python3 -m spacy init fill-config ./base_config.cfg ./config.cfg"
   ]
  },
  {
   "cell_type": "code",
   "execution_count": 19,
   "id": "c463b23f",
   "metadata": {},
   "outputs": [
    {
     "name": "stdout",
     "output_type": "stream",
     "text": [
      "\u001b[38;5;4mℹ Saving to output directory: output\u001b[0m\n",
      "\u001b[38;5;4mℹ Using CPU\u001b[0m\n",
      "\u001b[1m\n",
      "=========================== Initializing pipeline ===========================\u001b[0m\n",
      "[2021-10-28 19:46:37,367] [INFO] Set up nlp object from config\n",
      "[2021-10-28 19:46:37,374] [INFO] Pipeline: ['tok2vec', 'textcat']\n",
      "[2021-10-28 19:46:37,377] [INFO] Created vocabulary\n",
      "[2021-10-28 19:46:37,378] [INFO] Finished initializing nlp object\n",
      "[2021-10-28 19:46:38,220] [INFO] Initialized pipeline components: ['tok2vec', 'textcat']\n",
      "\u001b[38;5;2m✔ Initialized pipeline\u001b[0m\n",
      "\u001b[1m\n",
      "============================= Training pipeline =============================\u001b[0m\n",
      "\u001b[38;5;4mℹ Pipeline: ['tok2vec', 'textcat']\u001b[0m\n",
      "\u001b[38;5;4mℹ Initial learn rate: 0.001\u001b[0m\n",
      "E    #       LOSS TOK2VEC  LOSS TEXTCAT  CATS_SCORE  SCORE \n",
      "---  ------  ------------  ------------  ----------  ------\n",
      "  0       0          0.00          0.50       44.44    0.44\n",
      "  0     200          0.00         61.90       45.48    0.45\n",
      "  1     400          0.00         28.84       51.99    0.52\n",
      "  1     600          0.00         13.66       66.69    0.67\n",
      "  2     800          0.00          3.54       63.46    0.63\n",
      "  3    1000          0.00          0.97       67.63    0.68\n",
      "  5    1200          0.00          0.22       67.12    0.67\n",
      "  7    1400          0.00          0.08       66.53    0.67\n",
      "  9    1600          0.00          0.04       65.93    0.66\n",
      " 12    1800          0.00          0.02       64.91    0.65\n",
      " 15    2000          0.00          0.01       67.12    0.67\n",
      " 20    2200          0.00          0.01       66.53    0.67\n",
      " 25    2400          0.00          0.00       66.31    0.66\n",
      " 30    2600          0.00          0.00       66.31    0.66\n",
      "\u001b[38;5;2m✔ Saved pipeline to output directory\u001b[0m\n",
      "output/model-last\n"
     ]
    }
   ],
   "source": [
    "!python3 -m spacy train config.cfg --output ./output"
   ]
  },
  {
   "cell_type": "code",
   "execution_count": null,
   "id": "c173e569",
   "metadata": {},
   "outputs": [],
   "source": [
    "import random\n",
    "\n",
    "def load_data(limit=0, split=0.8):\n",
    "    train_data=train\n",
    "    \n",
    "    # Shuffle the data\n",
    "    random.shuffle(train_data)\n",
    "    texts, labels = zip(*train_data)\n",
    "    \n",
    "    # Splitting the training and evaluation data\n",
    "    split = int(len(train_data) * split)\n",
    "    \n",
    "    return (texts[:split], labels[:split]), (texts[split:], labels[:split])\n",
    "\n",
    "n_texts=23486\n",
    "\n",
    "# Calling the load_data() function\n",
    "(train_texts, train_labels), (dev_texts, dev_labels) = load_data(limit=n_texts)\n",
    "\n",
    "\n",
    "# Processing the final format of training data\n",
    "train_data = list(zip(train_texts,[label: for label in train_labels]))\n"
   ]
  },
  {
   "cell_type": "code",
   "execution_count": null,
   "id": "1f2118f6",
   "metadata": {},
   "outputs": [],
   "source": [
    "type()"
   ]
  },
  {
   "cell_type": "code",
   "execution_count": null,
   "id": "283793ae",
   "metadata": {},
   "outputs": [],
   "source": [
    "train_data[:10]"
   ]
  },
  {
   "cell_type": "code",
   "execution_count": null,
   "id": "447f0869",
   "metadata": {},
   "outputs": [],
   "source": []
  },
  {
   "cell_type": "code",
   "execution_count": null,
   "id": "781cf7a6",
   "metadata": {},
   "outputs": [],
   "source": []
  }
 ],
 "metadata": {
  "kernelspec": {
   "display_name": "Python 3 (ipykernel)",
   "language": "python",
   "name": "python3"
  },
  "language_info": {
   "codemirror_mode": {
    "name": "ipython",
    "version": 3
   },
   "file_extension": ".py",
   "mimetype": "text/x-python",
   "name": "python",
   "nbconvert_exporter": "python",
   "pygments_lexer": "ipython3",
   "version": "3.9.6"
  }
 },
 "nbformat": 4,
 "nbformat_minor": 5
}
